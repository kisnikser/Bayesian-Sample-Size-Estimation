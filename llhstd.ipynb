{
 "cells": [
  {
   "cell_type": "markdown",
   "metadata": {},
   "source": [
    "В этом notebook я по известной выборке $\\mathbf{X}, \\mathbf{y}$ получаю значения log-likelihood, mean и std."
   ]
  },
  {
   "cell_type": "markdown",
   "metadata": {},
   "source": [
    "# Imports"
   ]
  },
  {
   "cell_type": "code",
   "execution_count": 1,
   "metadata": {},
   "outputs": [],
   "source": [
    "from matplotlib import pyplot as plt\n",
    "import numpy as np\n",
    "import pandas as pd\n",
    "import pickle\n",
    "from tqdm import tqdm\n",
    "from scipy.optimize import minimize\n",
    "from sklearn.datasets import load_diabetes\n",
    "from sklearn.model_selection import train_test_split\n",
    "from sklearn.linear_model import LinearRegression, Ridge, Lasso, ElasticNet\n",
    "from sklearn.utils import resample\n",
    "from sklearn.metrics import mean_squared_error\n",
    "import scipy.stats as sps\n",
    "\n",
    "myparams = {\n",
    "    'text.usetex': True,\n",
    "    'text.latex.preamble': r'\\usepackage{amsmath}',\n",
    "    'font.size': 14,\n",
    "    'axes.grid': True,\n",
    "    'grid.alpha': 0.1,\n",
    "    'lines.linewidth': 2\n",
    "}\n",
    "\n",
    "plt.rcParams.update(myparams)\n",
    "\n",
    "from utils import Dataset\n",
    "from models import RegressionModel, LogisticModel\n",
    "\n",
    "%load_ext autoreload\n",
    "%autoreload 2"
   ]
  },
  {
   "cell_type": "markdown",
   "metadata": {},
   "source": [
    "# Synthetic dataset (Regression)"
   ]
  },
  {
   "cell_type": "markdown",
   "metadata": {},
   "source": [
    "$$ \\mathbf{X} \\in \\mathbb{R}^{m \\times n}, \\quad \\mathbf{y} \\in \\mathbb{R}^{m} $$"
   ]
  },
  {
   "cell_type": "markdown",
   "metadata": {},
   "source": [
    "$$ p(\\mathbf{y}, \\mathbf{w}, \\mathbf{X} | \\alpha) = \\prod_{i} \\mathcal{N}(\\mathbf{x}_i | \\mathbf{0}, \\sigma^2 \\mathbf{I}_n) \\mathcal{N}(\\mathbf{w} | \\mathbf{0}, \\alpha^{-1} \\mathbf{I}_n) \\prod_{i} p(y_i | \\mathbf{x}_j, \\mathbf{w}) $$"
   ]
  },
  {
   "cell_type": "markdown",
   "metadata": {},
   "source": [
    "$$ \\mathbf{w} \\in \\mathbb{R}^{n} $$"
   ]
  },
  {
   "cell_type": "markdown",
   "metadata": {},
   "source": [
    "$$ p(y_i | \\mathbf{x}_i, \\mathbf{w}) = \\mathcal{N}(y_i | \\mathbf{w}^\\top \\mathbf{x}_i,  1) $$"
   ]
  },
  {
   "cell_type": "code",
   "execution_count": 2,
   "metadata": {},
   "outputs": [],
   "source": [
    "m = 1000\n",
    "n = 20"
   ]
  },
  {
   "cell_type": "code",
   "execution_count": 3,
   "metadata": {},
   "outputs": [],
   "source": [
    "alpha = 1\n",
    "sigma = 2"
   ]
  },
  {
   "cell_type": "code",
   "execution_count": 4,
   "metadata": {},
   "outputs": [],
   "source": [
    "X = sps.multivariate_normal(mean=np.zeros(n), cov=sigma**2*np.identity(n)).rvs(size=m)\n",
    "w = sps.multivariate_normal(mean=np.zeros(n), cov=alpha**(-1)*np.identity(n)).rvs()\n",
    "eps = sps.multivariate_normal(mean=np.zeros(m), cov=np.identity(m)).rvs()\n",
    "y = X @ w + eps"
   ]
  },
  {
   "cell_type": "code",
   "execution_count": 7,
   "metadata": {},
   "outputs": [],
   "source": [
    "dataset = Dataset(X, y)"
   ]
  },
  {
   "cell_type": "code",
   "execution_count": 8,
   "metadata": {},
   "outputs": [],
   "source": [
    "X_train, X_test, y_train, y_test = dataset.train_test_split()"
   ]
  },
  {
   "cell_type": "code",
   "execution_count": 9,
   "metadata": {},
   "outputs": [],
   "source": [
    "sample_sizes = np.arange(n, X_train.shape[0], 10) + 1"
   ]
  },
  {
   "cell_type": "code",
   "execution_count": 13,
   "metadata": {},
   "outputs": [],
   "source": [
    "N = 10\n",
    "llhs = [] # log-likelihoods\n",
    "\n",
    "for m in sample_sizes:\n",
    "    tmp = []\n",
    "    for _ in range(N):\n",
    "        X_m, y_m = Dataset(X_train, y_train).sample(m)\n",
    "        model = RegressionModel(X_m, y_m, alpha=alpha)\n",
    "        model_test = RegressionModel(X_test, y_test, alpha=alpha)\n",
    "        w_hat = model.fit()\n",
    "        tmp.append(model_test.loglikelihood(params=w_hat))\n",
    "    tmp = np.array(tmp)\n",
    "    llhs.append(tmp)\n",
    "\n",
    "llhs = np.array(llhs)"
   ]
  },
  {
   "cell_type": "code",
   "execution_count": 14,
   "metadata": {},
   "outputs": [],
   "source": [
    "llh_means = llhs.mean(axis=1)\n",
    "llh_stds = llhs.std(axis=1)"
   ]
  },
  {
   "cell_type": "markdown",
   "metadata": {},
   "source": [
    "Построим график зависимости логарифма правдоподобия, подсчитанного на тестовой выборке, от доступного объема обучающей выборки. Для каждого доступного объема обучающей выборки $m$ сгенерируем $N$ подвыборок обучающей выборки объема $m$ с возвращением (bootstrap). Усредним полученные результаты, откуда получим среднее значение и среднеквадратичное отклонение для каждого доступного объема обучающей выборки $m$. "
   ]
  },
  {
   "cell_type": "code",
   "execution_count": 15,
   "metadata": {},
   "outputs": [
    {
     "data": {
      "image/png": "[encoded data removed]",
      "text/plain": [
       "<Figure size 640x480 with 1 Axes>"
      ]
     },
     "metadata": {},
     "output_type": "display_data"
    }
   ],
   "source": [
    "plt.plot(sample_sizes, llh_means, label='mean')\n",
    "plt.fill_between(sample_sizes, llh_means - llh_stds, llh_means + llh_stds, alpha=0.3)\n",
    "\n",
    "plt.legend()\n",
    "plt.xlabel('Available sample size')\n",
    "plt.ylabel('log-likelihood')\n",
    "plt.show()"
   ]
  },
  {
   "cell_type": "markdown",
   "metadata": {},
   "source": [
    "# Synthetic dataset (Classification)"
   ]
  },
  {
   "cell_type": "markdown",
   "metadata": {},
   "source": [
    "$$ \\mathbf{X} \\in \\mathbb{R}^{m \\times n}, \\quad \\mathbf{y} \\in \\{-1, 1\\}^m $$"
   ]
  },
  {
   "cell_type": "markdown",
   "metadata": {},
   "source": [
    "$$ p(\\mathbf{y}, \\mathbf{w}, \\mathbf{X} | \\alpha) = \\prod_{i} \\mathcal{N}(\\mathbf{x}_i | \\mathbf{0}, \\sigma^2 \\mathbf{I}_n) \\mathcal{N}(\\mathbf{w} | \\mathbf{0}, \\alpha^{-1} \\mathbf{I}_n) \\prod_{i} p(y_i | \\mathbf{x}_j, \\mathbf{w}) $$"
   ]
  },
  {
   "cell_type": "markdown",
   "metadata": {},
   "source": [
    "$$ \\mathbf{w} \\in \\mathbb{R}^{n} $$"
   ]
  },
  {
   "cell_type": "markdown",
   "metadata": {},
   "source": [
    "$$ p(y_i | \\mathbf{x}_i, \\mathbf{w}) = \\sigma\\left( y_i \\mathbf{w}^\\top \\mathbf{x}_i \\right) $$"
   ]
  },
  {
   "cell_type": "code",
   "execution_count": 277,
   "metadata": {},
   "outputs": [],
   "source": [
    "def sigmoid(x):\n",
    "    return 1 / (1 + np.exp(-x))\n",
    "\n",
    "def prob_y(x, w):\n",
    "    return sigmoid(x @ w)\n",
    "\n",
    "def sample_y(X, w):\n",
    "    return sps.bernoulli.rvs(p=prob_y(X, w))"
   ]
  },
  {
   "cell_type": "code",
   "execution_count": 278,
   "metadata": {},
   "outputs": [],
   "source": [
    "m = 500\n",
    "n = 20"
   ]
  },
  {
   "cell_type": "code",
   "execution_count": 279,
   "metadata": {},
   "outputs": [],
   "source": [
    "alpha = 1\n",
    "sigma = 2"
   ]
  },
  {
   "cell_type": "code",
   "execution_count": 280,
   "metadata": {},
   "outputs": [],
   "source": [
    "X = sps.multivariate_normal(mean=np.zeros(n), cov=sigma**2*np.identity(n)).rvs(size=m)\n",
    "w = sps.multivariate_normal(mean=np.zeros(n), cov=alpha**(-1)*np.identity(n)).rvs()\n",
    "y = sample_y(X, w)"
   ]
  },
  {
   "cell_type": "code",
   "execution_count": 281,
   "metadata": {},
   "outputs": [],
   "source": [
    "dataset = Dataset(X, y)"
   ]
  },
  {
   "cell_type": "code",
   "execution_count": 282,
   "metadata": {},
   "outputs": [],
   "source": [
    "X_train, X_test, y_train, y_test = dataset.train_test_split()"
   ]
  },
  {
   "cell_type": "code",
   "execution_count": 283,
   "metadata": {},
   "outputs": [],
   "source": [
    "sample_sizes = np.arange(n, X_train.shape[0], 10) + 1"
   ]
  },
  {
   "cell_type": "code",
   "execution_count": 296,
   "metadata": {},
   "outputs": [],
   "source": [
    "N = 100\n",
    "llhs_estimated = [] # log-likelihoods\n",
    "llhs_genuine = []\n",
    "\n",
    "for m in sample_sizes:\n",
    "    tmp = []\n",
    "    for _ in range(N):\n",
    "        X_m, y_m = Dataset(X_train, y_train).sample(m)\n",
    "        model = RegressionModel(X_m, y_m, alpha=alpha)\n",
    "        model_test = RegressionModel(X_test, y_test, alpha=alpha)\n",
    "        w_hat = model.fit()\n",
    "        tmp.append(model_test.loglikelihood_fixed(params=w_hat))\n",
    "    tmp = np.array(tmp)\n",
    "    llhs_estimated.append(tmp)\n",
    "\n",
    "llhs_estimated = np.array(llhs_estimated)"
   ]
  },
  {
   "cell_type": "code",
   "execution_count": 297,
   "metadata": {},
   "outputs": [],
   "source": [
    "llh_means = llhs.mean(axis=1)\n",
    "llh_stds = llhs.std(axis=1)"
   ]
  },
  {
   "cell_type": "markdown",
   "metadata": {},
   "source": [
    "Построим график зависимости логарифма правдоподобия, подсчитанного на тестовой выборке, от доступного объема обучающей выборки. Для каждого доступного объема обучающей выборки $m$ сгенерируем $N$ подвыборок обучающей выборки объема $m$ с возвращением (bootstrap). Усредним полученные результаты, откуда получим среднее значение и среднеквадратичное отклонение для каждого доступного объема обучающей выборки $m$. "
   ]
  },
  {
   "cell_type": "code",
   "execution_count": 298,
   "metadata": {},
   "outputs": [
    {
     "data": {
      "image/png": "[encoded data removed]",
      "text/plain": [
       "<Figure size 640x480 with 1 Axes>"
      ]
     },
     "metadata": {},
     "output_type": "display_data"
    }
   ],
   "source": [
    "plt.plot(sample_sizes, llh_means, label='mean')\n",
    "plt.fill_between(sample_sizes, llh_means - llh_stds, llh_means + llh_stds, alpha=0.3)\n",
    "\n",
    "plt.legend()\n",
    "plt.xlabel('Available sample size')\n",
    "plt.ylabel('log-likelihood')\n",
    "plt.show()"
   ]
  }
 ],
 "metadata": {
  "kernelspec": {
   "display_name": "base",
   "language": "python",
   "name": "python3"
  },
  "language_info": {
   "codemirror_mode": {
    "name": "ipython",
    "version": 3
   },
   "file_extension": ".py",
   "mimetype": "text/x-python",
   "name": "python",
   "nbconvert_exporter": "python",
   "pygments_lexer": "ipython3",
   "version": "3.11.5"
  }
 },
 "nbformat": 4,
 "nbformat_minor": 2
}
